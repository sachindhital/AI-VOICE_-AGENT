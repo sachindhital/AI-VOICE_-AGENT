{
 "cells": [
  {
   "cell_type": "code",
   "execution_count": null,
   "id": "903d139e",
   "metadata": {},
   "outputs": [],
   "source": [
    "import os\n",
    "import datetime\n",
    "from google.oauth2.credentials import Credentials\n",
    "from google_auth_oauthlib.flow import InstalledAppFlow\n",
    "from googleapiclient.discovery import build\n",
    "\n"
   ]
  },
  {
   "cell_type": "code",
   "execution_count": null,
   "id": "c567df44",
   "metadata": {},
   "outputs": [],
   "source": [
    "\n",
    "# Google Calendar API scope\n",
    "SCOPES = ['https://www.googleapis.com/auth/calendar.events']\n",
    "\n",
    "def schedule_service(date_time: str, description: str):\n",
    "    \"\"\"Schedules a service appointment in Google Calendar.\"\"\"\n",
    "\n",
    "    creds = None\n",
    "\n",
    "    # Check for existing saved token\n",
    "    if os.path.exists('token.json'):\n",
    "        creds = Credentials.from_authorized_user_file('token.json', SCOPES)\n",
    "    else:\n",
    "        # First-time login: start local server flow\n",
    "        flow = InstalledAppFlow.from_client_secrets_file('credentials.json', SCOPES)\n",
    "        creds = flow.run_local_server(port=0)\n",
    "        # Save token for next time\n",
    "        with open('token.json', 'w') as token:\n",
    "            token.write(creds.to_json())\n",
    "\n",
    "    # Build the calendar service\n",
    "    service = build('calendar', 'v3', credentials=creds)\n",
    "\n",
    "    # Define event details\n",
    "    event = {\n",
    "        'summary': 'Car Service Appointment',\n",
    "        'description': description,\n",
    "        'start': {\n",
    "            'dateTime': date_time,\n",
    "            'timeZone': 'Australia/Sydney',  # Adjust timezone as needed\n",
    "        },\n",
    "        'end': {\n",
    "            'dateTime': (datetime.datetime.fromisoformat(date_time) + datetime.timedelta(hours=1)).isoformat(),\n",
    "            'timeZone': 'Australia/Sydney',\n",
    "        },\n",
    "    }\n",
    "\n",
    "    # Create event in primary calendar\n",
    "    event = service.events().insert(calendarId='primary', body=event).execute()\n",
    "\n",
    "    print(f\"✅ Event created: {event.get('htmlLink')}\")\n",
    "\n",
    "\n",
    "# 🧪 TEST IT\n",
    "if __name__ == '__main__':\n",
    "    # Format: YYYY-MM-DDTHH:MM:SS\n",
    "    test_datetime = \"2025-05-01T14:00:00\"\n",
    "    test_description = \"Oil change and 20-point inspection\"\n",
    "\n",
    "    schedule_service(test_datetime, test_description)"
   ]
  }
 ],
 "metadata": {
  "kernelspec": {
   "display_name": "Python 3",
   "language": "python",
   "name": "python3"
  },
  "language_info": {
   "name": "python",
   "version": "3.13.2"
  }
 },
 "nbformat": 4,
 "nbformat_minor": 5
}
